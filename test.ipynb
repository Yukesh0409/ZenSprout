{
 "cells": [
  {
   "cell_type": "code",
   "execution_count": 37,
   "metadata": {},
   "outputs": [],
   "source": [
    "import pandas as pd\n",
    "from sqlalchemy import create_engine\n",
    "from app import app, db  # Import your Flask app and SQLAlchemy instance"
   ]
  },
  {
   "cell_type": "code",
   "execution_count": 38,
   "metadata": {},
   "outputs": [],
   "source": [
    "\n",
    "# Database URI (same as in your Flask app)\n",
    "DATABASE_URI = 'sqlite:///instance/zensprout.db'"
   ]
  },
  {
   "cell_type": "code",
   "execution_count": 39,
   "metadata": {},
   "outputs": [],
   "source": [
    "\n",
    "# Create a SQLAlchemy engine\n",
    "engine = create_engine(DATABASE_URI)\n"
   ]
  },
  {
   "cell_type": "code",
   "execution_count": 40,
   "metadata": {},
   "outputs": [],
   "source": [
    "\n",
    "# Function to load a table into a DataFrame\n",
    "def load_table_to_dataframe(table_name):\n",
    "    query = f\"SELECT * FROM {table_name};\"\n",
    "    df = pd.read_sql(query, engine)\n",
    "    return df\n"
   ]
  },
  {
   "cell_type": "code",
   "execution_count": 41,
   "metadata": {},
   "outputs": [],
   "source": [
    "\n",
    "# List of tables to inspect\n",
    "tables = ['user', 'session']  # Add other table names if needed\n"
   ]
  },
  {
   "cell_type": "code",
   "execution_count": 42,
   "metadata": {},
   "outputs": [
    {
     "name": "stdout",
     "output_type": "stream",
     "text": [
      "\n",
      "Contents of table 'user':\n"
     ]
    },
    {
     "data": {
      "text/html": [
       "<div>\n",
       "<style scoped>\n",
       "    .dataframe tbody tr th:only-of-type {\n",
       "        vertical-align: middle;\n",
       "    }\n",
       "\n",
       "    .dataframe tbody tr th {\n",
       "        vertical-align: top;\n",
       "    }\n",
       "\n",
       "    .dataframe thead th {\n",
       "        text-align: right;\n",
       "    }\n",
       "</style>\n",
       "<table border=\"1\" class=\"dataframe\">\n",
       "  <thead>\n",
       "    <tr style=\"text-align: right;\">\n",
       "      <th></th>\n",
       "      <th>id</th>\n",
       "      <th>username</th>\n",
       "      <th>email</th>\n",
       "      <th>password</th>\n",
       "      <th>age</th>\n",
       "      <th>gender</th>\n",
       "      <th>goals</th>\n",
       "      <th>distractions</th>\n",
       "      <th>occupation</th>\n",
       "    </tr>\n",
       "  </thead>\n",
       "  <tbody>\n",
       "    <tr>\n",
       "      <th>0</th>\n",
       "      <td>1</td>\n",
       "      <td>sarah_dev</td>\n",
       "      <td>sarah@example.com</td>\n",
       "      <td>scrypt:32768:8:1$0eDac5JKNjbkLqZW$f82a6e53ff5e...</td>\n",
       "      <td>28</td>\n",
       "      <td>female</td>\n",
       "      <td>Improve coding skills, maintain work-life bala...</td>\n",
       "      <td>Social media, phone notifications, email checking</td>\n",
       "      <td>Software Developer</td>\n",
       "    </tr>\n",
       "  </tbody>\n",
       "</table>\n",
       "</div>"
      ],
      "text/plain": [
       "   id   username              email  \\\n",
       "0   1  sarah_dev  sarah@example.com   \n",
       "\n",
       "                                            password  age  gender  \\\n",
       "0  scrypt:32768:8:1$0eDac5JKNjbkLqZW$f82a6e53ff5e...   28  female   \n",
       "\n",
       "                                               goals  \\\n",
       "0  Improve coding skills, maintain work-life bala...   \n",
       "\n",
       "                                        distractions          occupation  \n",
       "0  Social media, phone notifications, email checking  Software Developer  "
      ]
     },
     "metadata": {},
     "output_type": "display_data"
    },
    {
     "name": "stdout",
     "output_type": "stream",
     "text": [
      "\n",
      "Contents of table 'session':\n"
     ]
    },
    {
     "data": {
      "text/html": [
       "<div>\n",
       "<style scoped>\n",
       "    .dataframe tbody tr th:only-of-type {\n",
       "        vertical-align: middle;\n",
       "    }\n",
       "\n",
       "    .dataframe tbody tr th {\n",
       "        vertical-align: top;\n",
       "    }\n",
       "\n",
       "    .dataframe thead th {\n",
       "        text-align: right;\n",
       "    }\n",
       "</style>\n",
       "<table border=\"1\" class=\"dataframe\">\n",
       "  <thead>\n",
       "    <tr style=\"text-align: right;\">\n",
       "      <th></th>\n",
       "      <th>id</th>\n",
       "      <th>user_id</th>\n",
       "      <th>session_type</th>\n",
       "      <th>duration</th>\n",
       "      <th>timestamp</th>\n",
       "    </tr>\n",
       "  </thead>\n",
       "  <tbody>\n",
       "    <tr>\n",
       "      <th>0</th>\n",
       "      <td>1</td>\n",
       "      <td>1</td>\n",
       "      <td>work</td>\n",
       "      <td>1800</td>\n",
       "      <td>2024-12-28 11:48:00</td>\n",
       "    </tr>\n",
       "    <tr>\n",
       "      <th>1</th>\n",
       "      <td>2</td>\n",
       "      <td>1</td>\n",
       "      <td>work</td>\n",
       "      <td>2880</td>\n",
       "      <td>2024-12-28 12:00:00</td>\n",
       "    </tr>\n",
       "    <tr>\n",
       "      <th>2</th>\n",
       "      <td>3</td>\n",
       "      <td>1</td>\n",
       "      <td>break</td>\n",
       "      <td>660</td>\n",
       "      <td>2024-12-28 16:24:00</td>\n",
       "    </tr>\n",
       "    <tr>\n",
       "      <th>3</th>\n",
       "      <td>4</td>\n",
       "      <td>1</td>\n",
       "      <td>break</td>\n",
       "      <td>420</td>\n",
       "      <td>2024-12-28 16:29:00</td>\n",
       "    </tr>\n",
       "    <tr>\n",
       "      <th>4</th>\n",
       "      <td>5</td>\n",
       "      <td>1</td>\n",
       "      <td>work</td>\n",
       "      <td>2520</td>\n",
       "      <td>2024-12-28 16:32:00</td>\n",
       "    </tr>\n",
       "    <tr>\n",
       "      <th>...</th>\n",
       "      <td>...</td>\n",
       "      <td>...</td>\n",
       "      <td>...</td>\n",
       "      <td>...</td>\n",
       "      <td>...</td>\n",
       "    </tr>\n",
       "    <tr>\n",
       "      <th>182</th>\n",
       "      <td>183</td>\n",
       "      <td>1</td>\n",
       "      <td>break</td>\n",
       "      <td>300</td>\n",
       "      <td>2025-01-26 12:06:00</td>\n",
       "    </tr>\n",
       "    <tr>\n",
       "      <th>183</th>\n",
       "      <td>184</td>\n",
       "      <td>1</td>\n",
       "      <td>work</td>\n",
       "      <td>1980</td>\n",
       "      <td>2025-01-26 14:12:00</td>\n",
       "    </tr>\n",
       "    <tr>\n",
       "      <th>184</th>\n",
       "      <td>185</td>\n",
       "      <td>1</td>\n",
       "      <td>break</td>\n",
       "      <td>660</td>\n",
       "      <td>2025-01-26 16:10:00</td>\n",
       "    </tr>\n",
       "    <tr>\n",
       "      <th>185</th>\n",
       "      <td>186</td>\n",
       "      <td>1</td>\n",
       "      <td>break</td>\n",
       "      <td>420</td>\n",
       "      <td>2025-01-26 16:50:00</td>\n",
       "    </tr>\n",
       "    <tr>\n",
       "      <th>186</th>\n",
       "      <td>187</td>\n",
       "      <td>1</td>\n",
       "      <td>work</td>\n",
       "      <td>2340</td>\n",
       "      <td>2025-01-26 17:19:00</td>\n",
       "    </tr>\n",
       "  </tbody>\n",
       "</table>\n",
       "<p>187 rows × 5 columns</p>\n",
       "</div>"
      ],
      "text/plain": [
       "      id  user_id session_type  duration            timestamp\n",
       "0      1        1         work      1800  2024-12-28 11:48:00\n",
       "1      2        1         work      2880  2024-12-28 12:00:00\n",
       "2      3        1        break       660  2024-12-28 16:24:00\n",
       "3      4        1        break       420  2024-12-28 16:29:00\n",
       "4      5        1         work      2520  2024-12-28 16:32:00\n",
       "..   ...      ...          ...       ...                  ...\n",
       "182  183        1        break       300  2025-01-26 12:06:00\n",
       "183  184        1         work      1980  2025-01-26 14:12:00\n",
       "184  185        1        break       660  2025-01-26 16:10:00\n",
       "185  186        1        break       420  2025-01-26 16:50:00\n",
       "186  187        1         work      2340  2025-01-26 17:19:00\n",
       "\n",
       "[187 rows x 5 columns]"
      ]
     },
     "metadata": {},
     "output_type": "display_data"
    }
   ],
   "source": [
    "\n",
    "# Load and display each table\n",
    "for table in tables:\n",
    "    print(f\"\\nContents of table '{table}':\")\n",
    "    df = load_table_to_dataframe(table)\n",
    "    display(df)"
   ]
  },
  {
   "cell_type": "code",
   "execution_count": null,
   "metadata": {},
   "outputs": [],
   "source": []
  }
 ],
 "metadata": {
  "kernelspec": {
   "display_name": ".venv",
   "language": "python",
   "name": "python3"
  },
  "language_info": {
   "codemirror_mode": {
    "name": "ipython",
    "version": 3
   },
   "file_extension": ".py",
   "mimetype": "text/x-python",
   "name": "python",
   "nbconvert_exporter": "python",
   "pygments_lexer": "ipython3",
   "version": "3.13.1"
  }
 },
 "nbformat": 4,
 "nbformat_minor": 2
}
